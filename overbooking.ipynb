{
 "cells": [
  {
   "cell_type": "markdown",
   "metadata": {},
   "source": [
    "# Overbooking your hotel"
   ]
  },
  {
   "cell_type": "markdown",
   "metadata": {},
   "source": [
    "In this exercise, we're going to try and solve an important problem in Economics using Python. \n",
    "\n",
    "Imagine this problem:\n",
    "\n",
    "> You own a hotel, and you know that (on an average night) 8% of your hotel guests who book a room, don't show up. Each room costs 220 USD. If overbooked, we have to place customers at another hotel, which costs us 400 USD.\n",
    "How many rooms should we overbook in order to maximize expected revenue?\n",
    "\n",
    "In order to successfully solve this problem, there are a few things we'll need to learn about. First of all, we'll need to understand what it means numerically that \"on average, 8% of our hotel guests don't show up\". \n",
    "\n",
    "It turns out that you can model this with a **binomial distribution**. To understand **the binomial distribution**, an important concept in probability theory which lies at the foundation of data science, you first need to learn a little bit more about the *Bernoulli experiment**.\n",
    "\n",
    "## The Bernoulli Experiment\n",
    "\n",
    "A Bernoulli experiment is an experiment for which the probability a certain event occurs is $p$ and\n",
    "the probability the event does not occur is $(1-p)$; or in other words, the event is has two\n",
    "possible outcomes: one event occurring with probability $p$ and the other one with probability $(1-p)$.\n",
    "\n",
    "> **EXAMPLE 1**: A classical example of the Bernoulli experiment is flipping a coin. When flipping a coin, $p$ is equal to 0.5, and the probability of head is 0.5, as well as the probability of tail, which is the other possible event (1-0.5 = 0.5).\n",
    "\n",
    "\n",
    "> **EXAMPLE 2**: The probability of scoring  a point when being granted a penalty kick in soccer is 0.8. In this case the Bernoulli experiment is whether someone scores or not: $p$ is equal to 0.8, and the probability of not scoring is (1-$p$ = 1-0.8 =0.2).\n"
   ]
  },
  {
   "cell_type": "markdown",
   "metadata": {},
   "source": [
    "## Designing a Bernoulli experiment in Python"
   ]
  },
  {
   "cell_type": "markdown",
   "metadata": {},
   "source": [
    "We can use Python to design a Bernoulli experiment. Let's look at the code we use to generate the Bernoulli experiment that equals tossing a coin:\n",
    "\n",
    "```python\n",
    "import numpy as np\n",
    "print(np.random.binomial(1, 0.5, 1))\n",
    "```\n",
    "\n",
    "The first line of code imports the Python `NumPy` library. A library is essentially an open-source reusable chunk of code that you may want to include in your programs / projects. All you need to know is that NumPy is a library widely used in Python, and will help you solve some of the problems you'll see in this course.\n",
    "\n",
    "The second line of code uses the `random.binomial` function in the NumPy library to run a Bernoulli experiment. The function `random.binomial` takes in three so-called \"arguments\" here:\n",
    "  - The first argument represents the number of trials - or how many coin flips we're doing in each experiment\n",
    "  - The second argument represents $p$ or the probability of \"success\". \n",
    "  - The third argument represents how many experiments you're running (if the difference between argument 1 and 3 is not entirely clear at this time, don't worry - it will become clear later!)\n",
    "        \n",
    "Now, run the codeblock below by clicking the right green arrow. You'll see that you either see \"1\" (= success, say head) as an output, or \"0\" (no success, say tail). Let's say that we consider head as success, that means running this experiment (or running this code cell) is exactly the same as tossing a coin. Run the code a few times and see how you'll sometimes get a 1 and sometimes a 0!        "
   ]
  },
  {
   "cell_type": "code",
   "execution_count": 3,
   "metadata": {},
   "outputs": [
    {
     "name": "stdout",
     "output_type": "stream",
     "text": [
      "[0]\n"
     ]
    }
   ],
   "source": [
    "import numpy as np\n",
    "\n",
    "print(np.random.binomial(1, 0.5, 1))"
   ]
  },
  {
   "cell_type": "markdown",
   "metadata": {},
   "source": [
    " The outcome is **random**, but if you run it enough times you'll notice that about half of the times, you'll get 1 about half of the time and 0 about half of the time."
   ]
  },
  {
   "cell_type": "code",
   "execution_count": 4,
   "metadata": {},
   "outputs": [
    {
     "name": "stdout",
     "output_type": "stream",
     "text": [
      "[1]\n",
      "[0]\n",
      "[1]\n",
      "[1]\n",
      "[0]\n",
      "[0]\n",
      "[0]\n",
      "[1]\n",
      "[1]\n",
      "[1]\n"
     ]
    }
   ],
   "source": [
    "for i in range(10):\n",
    "    print(np.random.binomial(1, 0.5, 1))"
   ]
  },
  {
   "cell_type": "markdown",
   "metadata": {},
   "source": [
    "The code above is also known as a \"for loop\" - this for loop repeats a random experiment (in our case, throwing a dice) 10 times. In other words, you're **running 10 experiments**. Remember that you get a similar type outcome if you change the third argument in the `np.random.binomial()` function to 10, as this is the argument that represents \"number of experiments\"."
   ]
  },
  {
   "cell_type": "code",
   "execution_count": 5,
   "metadata": {},
   "outputs": [
    {
     "name": "stdout",
     "output_type": "stream",
     "text": [
      "[0 0 1 1 0 1 0 0 0 1]\n"
     ]
    }
   ],
   "source": [
    "print(np.random.binomial(1, 0.5, 10))"
   ]
  },
  {
   "cell_type": "markdown",
   "metadata": {},
   "source": [
    "Next, let's look at what happens if we change the first parameter from 1 to 20."
   ]
  },
  {
   "cell_type": "code",
   "execution_count": 6,
   "metadata": {},
   "outputs": [
    {
     "name": "stdout",
     "output_type": "stream",
     "text": [
      "[11 11 10 14 10 11 13 11 11  9]\n"
     ]
    }
   ],
   "source": [
    "print(np.random.binomial(20, 0.5, 10))"
   ]
  },
  {
   "cell_type": "markdown",
   "metadata": {},
   "source": [
    "This output looks like as if we threw 20 coins at a time and counted the number of heads. \n",
    "To summarize, each number in the resulting array represents the **total number of “successes”** (say, heads) experienced during 10 experiments of flipping 20 coins (performing 20 trials) per experiment."
   ]
  },
  {
   "cell_type": "markdown",
   "metadata": {},
   "source": [
    "## Repeated Bernoulli Experiments"
   ]
  },
  {
   "cell_type": "markdown",
   "metadata": {},
   "source": [
    "What you've been seeing here is the groundwork of what is called the **binomial distribution**. The binomial distribution is essentially a probability distribution that represents the likelihood of obtaining a predetermined number of successes (say, *r*) in a predetermined number of trials (say, *n*). Like in the Bernoulli experiment, you also need to know ahead of time what the probability of success is (say, $p$).\n",
    "\n",
    "> *Example*: What is the probability of obtaining \"heads\" 4 times, when flipping 5 coins? \n",
    "\n",
    "In this example, $r=4$, $n=5$ and (because we're talking about a coin flip) $p=0.5$.\n",
    "\n",
    "The answer to this question (and Binomial distribution as a whole) can be derived mathematically, but in this lesson we'll be **using Python** to get to the answer by repeating the experiment a very high number of times (say, 1000 or even 10000). If it doesn't immediately click, don't worry, you'll see what we mean in a bit!\n",
    "\n",
    "Let's use `np.random.binomial` and run the experiment \"flipping 5 coins\" 20 times. \n",
    "\n",
    "If you use the function correctly, the output will for each or the 20 experiments simulate how many times \"head\" was obtained."
   ]
  },
  {
   "cell_type": "code",
   "execution_count": 7,
   "metadata": {},
   "outputs": [
    {
     "name": "stdout",
     "output_type": "stream",
     "text": [
      "[2 3 2 3 2 2 3 2 1 3 3 1 2 4 4 2 2 3 0 3]\n"
     ]
    }
   ],
   "source": [
    "np.random.seed(seed=345) # do not change this code, it will ensure a reproducible answer!\n",
    "print(np.random.binomial(5, 0.5, 20))"
   ]
  },
  {
   "cell_type": "markdown",
   "metadata": {},
   "source": [
    "Looking at this, you can see that out of the 20 experiments, there were _two_ instances of \"obtaining heads 4 times\". So looking at this particular example, you can say that you obtained the desired outcome 2 times out of the 20 experiments, so 10% of the times. \n",
    "\n",
    "Based on this small set of trials, you could conclude that the probably of obtaining 4 times head is 10%. However, you'll notice that running the experiment 20 times isn't nearly enough to make a conclusive statement on what the actual probability is of getting 4x heads when tossing 5 coins. \n",
    "\n",
    "To see this, let's try this again but with another \"random seed\".\n",
    "> **about random seeds**: When we use `np.random.binomial`, we're using what's called a \"pseudorandom number generator\". A pseudorandom number generator will give you different outcomes if you run `np.random.binomial` a second time or a third time, just as if you would roll a dice again, or toss a coin again. To get the exact same outcome, you need to \"set a random seed\" - so that's exactly what `np.random.seed()` does. Running `np.random.binomial()` right after running `np.random.seed()` will ensure you get the same outcome over and over!\n"
   ]
  },
  {
   "cell_type": "code",
   "execution_count": 8,
   "metadata": {},
   "outputs": [
    {
     "name": "stdout",
     "output_type": "stream",
     "text": [
      "[3 2 1 4 5 4 1 2 2 2 2 4 2 2 0 3 3 1 4 3]\n"
     ]
    }
   ],
   "source": [
    "np.random.seed(seed=3456) # do not change this code, it will ensure a reproducible answer!\n",
    "print(np.random.binomial(5, 0.5, 20))"
   ]
  },
  {
   "cell_type": "markdown",
   "metadata": {},
   "source": [
    "Out of these 20 experiments, there were _four_ instances of \"obtaining head 4 times\". So here, you obtained the desired outcome in 4 experiments out of the 20 experiments, so 20% of the times.\n",
    "\n",
    "Now, to get an accurate approximation of exactly what the probability is of getting 4 times heads, we need to repeat this experiment far more than 20 times. Below, we'll run the experiment 1000 times, 10,000 times, and 100,000 times. We'll store the list of outcomes in `n_1000`, `n_10000` and `n_100000`."
   ]
  },
  {
   "cell_type": "code",
   "execution_count": 9,
   "metadata": {},
   "outputs": [],
   "source": [
    "np.random.seed(seed=567) \n",
    "n_1000 = np.random.binomial(n=5, p=0.5, size=1000)\n",
    "n_10000 = np.random.binomial(n=5, p=0.5, size=10000)\n",
    "n_100000 = np.random.binomial(n=5, p=0.5, size=100000)"
   ]
  },
  {
   "cell_type": "markdown",
   "metadata": {},
   "source": [
    "Next, to get an understanding of what the proportion of \"4\"'s is (\"how many of my trials resulted in obtaining heads 4 times\"), we can use the following code:"
   ]
  },
  {
   "cell_type": "code",
   "execution_count": 10,
   "metadata": {},
   "outputs": [
    {
     "name": "stdout",
     "output_type": "stream",
     "text": [
      "0.155\n",
      "0.1536\n",
      "0.15733\n"
     ]
    },
    {
     "data": {
      "text/plain": [
       "0.15625"
      ]
     },
     "execution_count": 10,
     "metadata": {},
     "output_type": "execute_result"
    }
   ],
   "source": [
    "print(np.sum(n_1000 == 4) /1000)\n",
    "print(np.sum(n_10000 == 4) /10000)\n",
    "print(np.sum(n_100000 == 4) /100000)\n",
    "\n",
    "0.15625"
   ]
  },
  {
   "cell_type": "markdown",
   "metadata": {},
   "source": [
    "When looking at the results, it looks like the probability of getting 4 heads when flipping a coin 5 times is somewhere between $15\\%$ and $16\\%$. For those of you who like to dive into the mathematics, this probability can actually be calculated mathematically as well! The \"binomial probability\" can be calculated as follows (don't worry if what follows doesn't immediately click - you'll get really familiar with all this in Flatiron School's Data Science Program):"
   ]
  },
  {
   "cell_type": "markdown",
   "metadata": {},
   "source": [
    "$P(X=r) = \\displaystyle {n\\choose r}p^r (1-p)^{n-r}$ \n",
    "\n",
    "where\n",
    "\n",
    "$\\displaystyle {n\\choose r} = \\dfrac{n!}{k!(n-k)!}$\n",
    "\n",
    "\n",
    "$n!$ is \"n factorial\". You can calculate $n!$ as $n*(n-1) * (n-2) * 1$. In this case, our $n = 5$ and $5$ factorial is, $5!= 5*4*3*2*1 = 120$. Applying this formula to our problem:\n",
    "\n",
    "\n",
    "$P(X=4)=\\dfrac{5!}{4!(1)!} 0.5^4 (0.5)^{1} =0.15625 $ or $15.625\\%$, which is indeed between 15 and 16% as indicated by repeating our experiments thousands of times!\n"
   ]
  },
  {
   "cell_type": "markdown",
   "metadata": {},
   "source": [
    "## Visualizing throwing a dice"
   ]
  },
  {
   "cell_type": "markdown",
   "metadata": {},
   "source": [
    "To get a full picture on how likely it is to throw a heads a certain number of times, you can visualize this in a plot. In the plot below, you can see for each possible outcome (ranging from \"throwing heads 0 times\" to \"throwing heads 5 times\" how likely it is: for 4 heads, you see it's about 16% chance. For 3 heads, it's about 31%."
   ]
  },
  {
   "cell_type": "code",
   "execution_count": 13,
   "metadata": {
    "scrolled": true
   },
   "outputs": [
    {
     "data": {
      "image/png": "[encoded data removed]",
      "text/plain": [
       "<Figure size 432x288 with 1 Axes>"
      ]
     },
     "metadata": {},
     "output_type": "display_data"
    }
   ],
   "source": [
    "import matplotlib.pyplot as plt\n",
    "fig = plt.figure()\n",
    "ax = fig.add_subplot(111)\n",
    "n, bins, patches = ax.hist(n_100000, bins= np.arange(7)-0.5, rwidth=0.8, density = True)\n",
    "ax.set_xlabel('Number of times throwing Heads', size=16)\n",
    "ax.set_ylabel('Frequency', size=16)\n",
    "\n",
    "plt.show()"
   ]
  },
  {
   "cell_type": "markdown",
   "metadata": {},
   "source": [
    "## Bernoulli experiments to model room bookings"
   ]
  },
  {
   "cell_type": "markdown",
   "metadata": {},
   "source": [
    "If you have 100 hotel rooms, in an ideal world, you have all of your 100 rooms booked every night.\n",
    "However, a room booking still holds uncertainty in itself. When someone booked a room at the hotel, the hotel guest showing up is still not $100\\%$ certain. In that sense, the \"guest showing up\" is a probability event at itself, except (hopefully!) with a much higher chance than $50\\%$ in the event of a coin toss. in our hotel, on average, 8% of the customers who book a room don't end up staying on a given night.\n",
    "\n",
    "Let's check in Python what we can expect in terms of room bookings. We'll use NumPy again, and run the \"experiment\" 10,000 times so we can create a plot like the one before."
   ]
  },
  {
   "cell_type": "code",
   "execution_count": 71,
   "metadata": {},
   "outputs": [],
   "source": [
    "np.random.seed(seed=567) \n",
    "\n",
    "booking_100000 = np.random.binomial(n=100, p=0.92, size=100000)"
   ]
  },
  {
   "cell_type": "code",
   "execution_count": 72,
   "metadata": {},
   "outputs": [
    {
     "data": {
      "image/png": "[encoded data removed]",
      "text/plain": [
       "<Figure size 432x288 with 1 Axes>"
      ]
     },
     "metadata": {},
     "output_type": "display_data"
    }
   ],
   "source": [
    "length = len(np.unique(np.array(booking_100000)))\n",
    "np.unique(np.array(booking_100000))\n",
    "\n",
    "fig = plt.figure()\n",
    "ax = fig.add_subplot(111)\n",
    "# length = len(np.unique(np.array(booking_100000)))\n",
    "n, bins, patches = ax.hist(booking_100000, bins = np.arange(81,101)-0.5, rwidth=0.9, density = True) #bins = 20\n",
    "ax.set_xlabel('Number of rooms booked', size=16)\n",
    "ax.set_ylabel('Frequency', size=16)\n",
    "ax.set_xticks(range(82,100))\n",
    "plt.show()"
   ]
  },
  {
   "cell_type": "markdown",
   "metadata": {},
   "source": [
    "As you can see in this plot, the probability that exactly all guests that booked rooms, is virtually 0.\n",
    "Out of the 100,000 experiments we ran, only 20 times all 100 rooms are booked (you can't even see that with the naked eye!). This is one night out of every ~14 years! "
   ]
  },
  {
   "cell_type": "markdown",
   "metadata": {},
   "source": [
    "## Calculating Profit on any given night"
   ]
  },
  {
   "cell_type": "markdown",
   "metadata": {},
   "source": [
    "From what you've seen before, it looks like overbooking your hotel seems like a potential solution to use the full capacity of your hotel in an optimal way. But how many rooms should you overbook? The answer depends on the cost structure of overbooking.\n",
    "\n",
    "For our hotel, we have the following information:"
   ]
  },
  {
   "cell_type": "markdown",
   "metadata": {},
   "source": [
    "- Our customers pay a price of 220 USD per night for our hotel.\n",
    "- If on any night we have fewer rooms available than hotel guests, we have to place customers at a competitor hotel, which costs us 400 USD. \n",
    "\n",
    "\n",
    "This means that we end up losing 180 USD per room that is overbooked, when more guests show up than number of rooms available.\n",
    "\n",
    "\n",
    "The total profit on any given night is equal to:\n",
    "\n",
    "$\\text{Profit} = 220 \\times \\text{(number of booked rooms)} - 400 \\times \\text{(number of rooms booked - 100 [if more than 100 rooms were booked] )} $\n",
    "\n",
    "\n",
    "Let's say that in total 104 guests booked a room on a given night, and only 99 show up. Our expected profit that night is then equal to:\n",
    "\n",
    "$\\text{Profit} = 220 \\times 104 = 22,880 $ USD\n",
    "\n",
    "Note how the hotel benefits from overbooking because the customers fully prepay! \n",
    "\n",
    "\n",
    "On the other hand, if we overbooked and 104 guests and all of them show up on one given night, the expected is then equal to:\n",
    "\n",
    "\n",
    "$\\text{Profit} = 220 \\times 104 - 400 \\times 4  = 21,280 $ USD\n",
    "\n",
    "> NEEDS TO CHANGE: We know, however, that it's hard to predict how many people show up. Now, we can change the work we've been done before and make the plot about profit rather than chance distribution\n"
   ]
  },
  {
   "cell_type": "markdown",
   "metadata": {},
   "source": [
    "## Expected Profit when overbooking at 104 rooms"
   ]
  },
  {
   "cell_type": "markdown",
   "metadata": {},
   "source": [
    "Previously, you saw how overbooking at 104 rooms can give very different profits depending on how many guests actually end up staying in the hotel. Overbooking is a great tool to make more money, but can end up being costly if more hotel guests end up staying than rooms are available.\n",
    "\n",
    "In this section, we'll look into what our hotel's expected profit is when overbooking 104 rooms.\n",
    "\n",
    "We can achieve getting the expected profit by taking the following 3 steps:\n",
    "\n",
    "- Run a Bernoulli experiment like you did before, this time with $n=104$ instead of $n=100$. Let's run the experiment 10,000 times.\n",
    "- For each of the potential outcomes, we'll calculate the profit.\n",
    "- Next, we'll calculate the _expected profit_. You'll learn how to do that in a bit!\n",
    "\n"
   ]
  },
  {
   "cell_type": "markdown",
   "metadata": {},
   "source": [
    "### 1) The Bernoulli Experiment when booking 104 rooms"
   ]
  },
  {
   "cell_type": "code",
   "execution_count": 116,
   "metadata": {},
   "outputs": [],
   "source": [
    "np.random.seed(seed=567) \n",
    "\n",
    "booking_104= np.random.binomial(n=104, p=0.92, size=10000)"
   ]
  },
  {
   "cell_type": "code",
   "execution_count": 121,
   "metadata": {},
   "outputs": [
    {
     "data": {
      "image/png": "[encoded data removed]",
      "text/plain": [
       "<Figure size 432x288 with 1 Axes>"
      ]
     },
     "metadata": {},
     "output_type": "display_data"
    }
   ],
   "source": [
    "length = len(np.unique(np.array(booking_104)))\n",
    "np.unique(np.array(booking_104))\n",
    "\n",
    "fig = plt.figure()\n",
    "ax = fig.add_subplot(111)\n",
    "# length = len(np.unique(np.array(booking_100000)))\n",
    "n, bins, patches = ax.hist(booking_104, bins = np.arange(84,104)-0.5, rwidth=0.9, density = True) #bins = 20\n",
    "ax.set_xlabel('Number of rooms booked', size=16)\n",
    "ax.set_ylabel('Frequency', size=16)\n",
    "ax.set_xticks(range(85,104))\n",
    "plt.show()"
   ]
  },
  {
   "cell_type": "markdown",
   "metadata": {},
   "source": [
    "### 2) The Profit Distribution when booking 104 rooms"
   ]
  },
  {
   "cell_type": "code",
   "execution_count": 124,
   "metadata": {},
   "outputs": [
    {
     "data": {
      "text/plain": [
       "array([21340, 20020, 19800, ..., 21560, 20680, 21340])"
      ]
     },
     "execution_count": 124,
     "metadata": {},
     "output_type": "execute_result"
    }
   ],
   "source": [
    "booking_number = np.array(booking_104)\n",
    "revenue = 220 * booking_number\n",
    "cost = (booking_number - 100) * 400\n",
    "cost_final = np.where(cost<0, 0, cost) \n",
    "profit = revenue - cost_final\n",
    "\n",
    "profit"
   ]
  },
  {
   "cell_type": "code",
   "execution_count": 129,
   "metadata": {},
   "outputs": [
    {
     "data": {
      "image/png": "[encoded data removed]",
      "text/plain": [
       "<Figure size 432x288 with 1 Axes>"
      ]
     },
     "metadata": {},
     "output_type": "display_data"
    }
   ],
   "source": [
    "fig = plt.figure()\n",
    "ax = fig.add_subplot(111)\n",
    "# length = len(np.unique(np.array(booking_100000)))\n",
    "n, bins, patches = ax.hist(profit, bins = 19,  rwidth=0.9, density = True) #bins = 20\n",
    "ax.set_xlabel('Expected profit when booking 100 rooms', size=16)\n",
    "ax.set_ylabel('Frequency', size=16)\n",
    "plt.show()"
   ]
  },
  {
   "cell_type": "markdown",
   "metadata": {},
   "source": [
    "### 3) The Expected Profit"
   ]
  },
  {
   "cell_type": "code",
   "execution_count": null,
   "metadata": {},
   "outputs": [],
   "source": []
  },
  {
   "cell_type": "code",
   "execution_count": 108,
   "metadata": {},
   "outputs": [
    {
     "data": {
      "text/plain": [
       "array([21460, 21780, 21560, ..., 21820, 21780, 21780])"
      ]
     },
     "execution_count": 108,
     "metadata": {},
     "output_type": "execute_result"
    }
   ],
   "source": [
    "booking_105 = np.random.binomial(n=108, p=0.92, size=100000)\n",
    "\n",
    "\n",
    "b = np.array(booking_105)\n",
    "revenue = 220*b\n",
    "cost = (b-100)*400\n",
    "cost_pos = np.where(cost<0, 0, cost) \n",
    "profit = revenue - cost_pos\n",
    "\n",
    "profit"
   ]
  },
  {
   "cell_type": "code",
   "execution_count": 109,
   "metadata": {},
   "outputs": [
    {
     "data": {
      "image/png": "[encoded data removed]",
      "text/plain": [
       "<Figure size 432x288 with 1 Axes>"
      ]
     },
     "metadata": {},
     "output_type": "display_data"
    }
   ],
   "source": [
    "fig = plt.figure()\n",
    "ax = fig.add_subplot(111)\n",
    "# length = len(np.unique(np.array(booking_100000)))\n",
    "n, bins, patches = ax.hist(profit,  rwidth=0.9, density = True) #bins = 20\n",
    "ax.set_xlabel('Expected profit when booking 100 rooms', size=16)\n",
    "ax.set_ylabel('Frequency', size=16)\n",
    "plt.show()"
   ]
  },
  {
   "cell_type": "markdown",
   "metadata": {},
   "source": [
    "## Using Python to define Optimal numbers of rooms booked"
   ]
  },
  {
   "cell_type": "code",
   "execution_count": null,
   "metadata": {},
   "outputs": [],
   "source": []
  },
  {
   "cell_type": "code",
   "execution_count": 80,
   "metadata": {},
   "outputs": [
    {
     "ename": "ValueError",
     "evalue": "The truth value of an array with more than one element is ambiguous. Use a.any() or a.all()",
     "output_type": "error",
     "traceback": [
      "\u001b[0;31m---------------------------------------------------------------------------\u001b[0m",
      "\u001b[0;31mValueError\u001b[0m                                Traceback (most recent call last)",
      "\u001b[0;32m<ipython-input-80-c848b5b2bfe0>\u001b[0m in \u001b[0;36m<module>\u001b[0;34m()\u001b[0m\n\u001b[0;32m----> 1\u001b[0;31m \u001b[0;32mif\u001b[0m \u001b[0mcost\u001b[0m\u001b[0;34m>\u001b[0m\u001b[0;36m0\u001b[0m\u001b[0;34m:\u001b[0m\u001b[0;34m\u001b[0m\u001b[0;34m\u001b[0m\u001b[0m\n\u001b[0m\u001b[1;32m      2\u001b[0m     \u001b[0mprofit\u001b[0m \u001b[0;34m=\u001b[0m \u001b[0mrevenue\u001b[0m \u001b[0;34m-\u001b[0m \u001b[0mcost\u001b[0m\u001b[0;34m\u001b[0m\u001b[0;34m\u001b[0m\u001b[0m\n\u001b[1;32m      3\u001b[0m \u001b[0;32melse\u001b[0m\u001b[0;34m:\u001b[0m\u001b[0;34m\u001b[0m\u001b[0;34m\u001b[0m\u001b[0m\n\u001b[1;32m      4\u001b[0m     \u001b[0mprofit\u001b[0m \u001b[0;34m=\u001b[0m \u001b[0mrevenue\u001b[0m\u001b[0;34m\u001b[0m\u001b[0;34m\u001b[0m\u001b[0m\n",
      "\u001b[0;31mValueError\u001b[0m: The truth value of an array with more than one element is ambiguous. Use a.any() or a.all()"
     ]
    }
   ],
   "source": [
    "if cost>0:\n",
    "    profit = revenue - cost\n",
    "else:\n",
    "    profit = revenue"
   ]
  },
  {
   "cell_type": "markdown",
   "metadata": {},
   "source": [
    "> NEEDS TO CHANGE: We know, however, that it's hard to predict how many people show up. Now, we can change the work we've been done before and make the plot about profit rather than chance distribution\n",
    "\n",
    "let's say we book at 105\n"
   ]
  },
  {
   "cell_type": "code",
   "execution_count": null,
   "metadata": {},
   "outputs": [],
   "source": []
  },
  {
   "cell_type": "code",
   "execution_count": null,
   "metadata": {},
   "outputs": [],
   "source": []
  },
  {
   "cell_type": "markdown",
   "metadata": {},
   "source": [
    "Is overbooking your hotel a wise decision or not?\n",
    "Hotels often face the problem of customers not showing up. \n",
    "\n",
    "To reduce the loss (and optimize the revenue), they often end up overbooking hotel rooms.\n",
    "\n",
    "Imagine that there are 100 hotel rooms. On average, 8% of customers who book a room don't end up staying at the hotel.\n",
    "\n",
    "Each room costs 220 USD. If overbooked, we have to place customers at a competitor hotel, which costs us 400 USD. \n",
    "\n",
    "How many rooms should we overbook in order to maximize expected revenue?\n",
    "\n",
    "The solution is in the well-commented code below. 56 is the Optimal number of seats to be booked to maximize the expected profit as shown in the chart below the code snippet.\n"
   ]
  },
  {
   "cell_type": "markdown",
   "metadata": {},
   "source": [
    "https://towardsdatascience.com/every-data-scientist-needs-to-read-these-simulation-stories-7be0531e782f"
   ]
  },
  {
   "cell_type": "code",
   "execution_count": 94,
   "metadata": {},
   "outputs": [],
   "source": [
    "import numpy as np\n",
    "import matplotlib.pyplot as plt\n",
    "## code to run simulation for overbooked airlines\n",
    "## treating numbers of seats being filled out of s seats booked as number of success. Using binomial distribution to \n",
    "## quantify the success. defining success as the average 'sucess' when it is observed 10000 times. \n",
    "iterations = 1000            # Number of iterations to run simulation \n",
    "p = 0.08                        # probability of people not showing up\n",
    "rooms = np.linspace(start=101, stop=115, num=15)          # 10 different values of extra number of seats to be booked\n",
    "all_profits = []\n",
    "for r in rooms:\n",
    "    successes = np.random.binomial(r, (1-p), iterations)\n",
    "    success = np.mean(successes)\n",
    "    revenue = 220*r\n",
    "    cost =  (success-100)*400\n",
    "    if cost>0:\n",
    "        profit = revenue - cost\n",
    "    else:\n",
    "        profit = revenue\n",
    "    all_profits.append(profit)\n",
    "    \n",
    "## plotting profits vs seats. Maxima will give the optimum number of seats to be overbooked\n",
    "# plot(seats, all_profits, xlab = \"seats_booked\", ylab = \"profit_value\")"
   ]
  },
  {
   "cell_type": "code",
   "execution_count": 95,
   "metadata": {},
   "outputs": [],
   "source": [
    "successes = np.random.binomial(101, 0.92, iterations)"
   ]
  },
  {
   "cell_type": "code",
   "execution_count": 96,
   "metadata": {},
   "outputs": [
    {
     "data": {
      "image/png": "[encoded data removed]",
      "text/plain": [
       "<Figure size 432x288 with 1 Axes>"
      ]
     },
     "metadata": {},
     "output_type": "display_data"
    }
   ],
   "source": [
    "plt.hist(successes);"
   ]
  },
  {
   "cell_type": "code",
   "execution_count": 97,
   "metadata": {},
   "outputs": [
    {
     "data": {
      "text/plain": [
       "[22220.0,\n",
       " 22440.0,\n",
       " 22660.0,\n",
       " 22880.0,\n",
       " 23100.0,\n",
       " 23320.0,\n",
       " 23540.0,\n",
       " 23760.0,\n",
       " 23866.8,\n",
       " 23664.4,\n",
       " 23638.4,\n",
       " 23462.000000000004,\n",
       " 23236.4,\n",
       " 23157.999999999996,\n",
       " 22984.800000000003]"
      ]
     },
     "execution_count": 97,
     "metadata": {},
     "output_type": "execute_result"
    }
   ],
   "source": [
    "all_profits"
   ]
  },
  {
   "cell_type": "code",
   "execution_count": 98,
   "metadata": {},
   "outputs": [
    {
     "data": {
      "text/plain": [
       "array([101., 102., 103., 104., 105., 106., 107., 108., 109., 110., 111.,\n",
       "       112., 113., 114., 115.])"
      ]
     },
     "execution_count": 98,
     "metadata": {},
     "output_type": "execute_result"
    }
   ],
   "source": [
    "rooms"
   ]
  },
  {
   "cell_type": "code",
   "execution_count": 99,
   "metadata": {},
   "outputs": [
    {
     "data": {
      "image/png": "[encoded data removed]",
      "text/plain": [
       "<Figure size 432x288 with 1 Axes>"
      ]
     },
     "metadata": {},
     "output_type": "display_data"
    }
   ],
   "source": [
    "plt.plot(rooms, all_profits);"
   ]
  },
  {
   "cell_type": "markdown",
   "metadata": {},
   "source": [
    "This all assumes that "
   ]
  }
 ],
 "metadata": {
  "kernelspec": {
   "display_name": "Python 3",
   "language": "python",
   "name": "python3"
  },
  "language_info": {
   "codemirror_mode": {
    "name": "ipython",
    "version": 3
   },
   "file_extension": ".py",
   "mimetype": "text/x-python",
   "name": "python",
   "nbconvert_exporter": "python",
   "pygments_lexer": "ipython3",
   "version": "3.6.9"
  }
 },
 "nbformat": 4,
 "nbformat_minor": 2
}
